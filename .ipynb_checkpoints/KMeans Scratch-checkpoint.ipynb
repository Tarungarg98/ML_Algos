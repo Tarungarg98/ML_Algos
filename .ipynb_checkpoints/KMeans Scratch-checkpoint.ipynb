{
 "cells": [
  {
   "cell_type": "code",
   "execution_count": 1,
   "id": "b3d73fc8",
   "metadata": {},
   "outputs": [],
   "source": [
    "%matplotlib widget\n"
   ]
  },
  {
   "cell_type": "code",
   "execution_count": 1,
   "id": "0c31495d",
   "metadata": {},
   "outputs": [],
   "source": [
    "import random\n",
    "import numpy as np\n",
    "from matplotlib import pyplot as plt\n",
    "from mpl_toolkits.mplot3d import Axes3D\n",
    "\n",
    "import math\n",
    "\n",
    "def generate_random_points(x1,x2,y1,y2,no_of_points,z1=0,z2=0,d3=0):\n",
    "    coordinates=[]\n",
    "    for n in range(no_of_points):\n",
    "        x=random.randint(x1,x2)\n",
    "        y=random.randint(y1,y2)\n",
    "        if d3:\n",
    "            z=random.randint(z1,z2)\n",
    "            coordinates.append((x,y,z))\n",
    "        else:\n",
    "            coordinates.append((x,y))\n",
    "    return np.array(coordinates)"
   ]
  },
  {
   "cell_type": "code",
   "execution_count": 2,
   "id": "678e738c",
   "metadata": {},
   "outputs": [],
   "source": [
    "def generate_random_points_n_spaces(x1,x2,no_of_points,dim=3):\n",
    "    coordinates=[]\n",
    "    for n in range(no_of_points):\n",
    "        xyx=[]\n",
    "        for d in range(dim):\n",
    "            x=random.randint(x1,x2)\n",
    "            xyx.append(x)\n",
    "        coordinates.append(tuple(xyx))\n",
    "    return np.array(coordinates)"
   ]
  },
  {
   "cell_type": "code",
   "execution_count": 3,
   "id": "f1244552",
   "metadata": {},
   "outputs": [],
   "source": [
    "def generate_centroids(min_val,max_val,no_of_points):\n",
    "    coordinates=[]\n",
    "    for n in range(no_of_points):\n",
    "        d=random.randint(min_val,max_val)\n",
    "        coordinates.append(d)\n",
    "    return coordinates"
   ]
  },
  {
   "cell_type": "code",
   "execution_count": 11,
   "id": "8d04930f",
   "metadata": {},
   "outputs": [],
   "source": [
    "#coordinates=generate_random_points(x1=1,x2=100,y1=1,y2=100,no_of_points=500,z1=1,z2=100,d3=1)\n",
    "#coordinates=generate_random_points(x1=1,x2=100,y1=1,y2=100,no_of_points=100)\n",
    "coordinates=generate_random_points_n_spaces(x1=1,x2=1000,no_of_points=1000,dim=4)"
   ]
  },
  {
   "cell_type": "code",
   "execution_count": 12,
   "id": "d51462a1",
   "metadata": {},
   "outputs": [
    {
     "data": {
      "text/plain": [
       "(1000, 4)"
      ]
     },
     "execution_count": 12,
     "metadata": {},
     "output_type": "execute_result"
    }
   ],
   "source": [
    "coordinates.shape"
   ]
  },
  {
   "cell_type": "code",
   "execution_count": 13,
   "id": "e85010a1",
   "metadata": {},
   "outputs": [],
   "source": [
    "class KMeans:\n",
    "    def __init__(self,coordinates,no_of_clusters,plot=0,max_iter=30):\n",
    "        self.max_iter=max_iter\n",
    "        self.plot=plot\n",
    "        if type(coordinates)!=np.ndarray:\n",
    "            coordinates=np.array(coordinates)\n",
    "        n_d=coordinates.shape[1]\n",
    "        centroids=[]\n",
    "        self.n_d=n_d\n",
    "        \n",
    "        for d in range(n_d):\n",
    "            min_val=min(coordinates[:,d])\n",
    "            max_val=max(coordinates[:,d])\n",
    "            centroids_d=generate_centroids(min_val,max_val,no_of_clusters)\n",
    "            centroids.append(centroids_d)\n",
    "        centroids=np.array(centroids).T\n",
    "        self.coordinates=coordinates\n",
    "        self.centroids=centroids\n",
    "        self.no_of_clusters=no_of_clusters\n",
    "\n",
    "    def cal_diff(self):\n",
    "        dist=0\n",
    "        for centroid in range(len(self.centroids)):\n",
    "            dist+=math.dist(self.new_centroids[centroid],self.centroids[centroid])\n",
    "        return dist\n",
    "    def KMeans_loop(self,count):\n",
    "        if self.plot==1:\n",
    "            plt.clf()\n",
    "            colours=['red','yellow','blue','black','orange']\n",
    "            plt.scatter(self.coordinates[:,0],self.coordinates[:,1],color='green')\n",
    "            for x in range(self.no_of_clusters):\n",
    "                plt.scatter(self.centroids[x][0],self.centroids[x][1],color=colours[x%5])\n",
    "            plt.show()\n",
    "        cluster_dict={}\n",
    "        centroids_data={}\n",
    "        for centroid in range(len(self.centroids)):\n",
    "            cluster_dict[centroid]=[]\n",
    "            centroids_data[centroid]=self.centroids[centroid]\n",
    "        for pair in self.coordinates:\n",
    "            min_dist=100000\n",
    "            cluster=0\n",
    "            for centroid in range(len(self.centroids)):\n",
    "                dist=math.dist(pair,self.centroids[centroid])\n",
    "                if dist<min_dist:\n",
    "                    min_dist=dist\n",
    "                    cluster=centroid\n",
    "            cluster_dict[cluster].append(pair)\n",
    "\n",
    "        new_centroids=[]\n",
    "\n",
    "        for centroid in range(len(self.centroids)):\n",
    "            cluster_dict[centroid]=np.array(cluster_dict[centroid])\n",
    "            new_centroids_d=[]\n",
    "            for d in range(self.n_d):\n",
    "                mean_val=cluster_dict[centroid][:,d].mean()\n",
    "                new_centroids_d.append(mean_val)        \n",
    "            new_centroids.append(tuple(new_centroids_d))\n",
    "        self.new_centroids=new_centroids\n",
    "        if self.plot==2:\n",
    "            plt.clf()\n",
    "            colours=['red','yellow','blue','black','orange']\n",
    "            if self.n_d==3:\n",
    "            \n",
    "                fig = plt.figure()\n",
    "                ax = Axes3D(fig)\n",
    "                ax.set_zlabel('z-axis')\n",
    "            \n",
    "            for x in range(self.no_of_clusters):\n",
    "                if self.n_d==3:\n",
    "                    ax.scatter(cluster_dict[x][:,0],cluster_dict[x][:,1],cluster_dict[x][:,2],colours[x%5])\n",
    "                if self.n_d==2:\n",
    "                    plt.scatter(cluster_dict[x][:,0],cluster_dict[x][:,1],color=colours[x%5])\n",
    "            plt.show()\n",
    "        self.cluster_dict=cluster_dict\n",
    "\n",
    "    def main(self):\n",
    "        count=1\n",
    "        print(\"Running iteration :\",count)\n",
    "        self.KMeans_loop(count)\n",
    "        print(\"Total Distance between coordinates :\",self.cal_diff())\n",
    "        while not np.array_equal(self.new_centroids,self.centroids):\n",
    "            self.centroids=self.new_centroids\n",
    "            count+=1\n",
    "            print(\"Running iteration :\",count)\n",
    "            self.KMeans_loop(count)\n",
    "            print(\"Total Distance between coordinates :\",self.cal_diff())\n",
    "            if count>=self.max_iter:\n",
    "                break\n",
    "            \n",
    "            \n",
    "\n",
    "            \n",
    "    \n",
    "    "
   ]
  },
  {
   "cell_type": "code",
   "execution_count": 19,
   "id": "2ecfd63f",
   "metadata": {
    "scrolled": false
   },
   "outputs": [
    {
     "name": "stdout",
     "output_type": "stream",
     "text": [
      "Running iteration : 1\n",
      "Total Distance between coordinates : 978.2309203074423\n",
      "Running iteration : 2\n",
      "Total Distance between coordinates : 322.35787164284767\n",
      "Running iteration : 3\n",
      "Total Distance between coordinates : 214.71382708638836\n",
      "Running iteration : 4\n",
      "Total Distance between coordinates : 144.01465733639506\n",
      "Running iteration : 5\n",
      "Total Distance between coordinates : 111.25609927330709\n",
      "Running iteration : 6\n",
      "Total Distance between coordinates : 72.41854077600064\n",
      "Running iteration : 7\n",
      "Total Distance between coordinates : 63.91587790508378\n",
      "Running iteration : 8\n",
      "Total Distance between coordinates : 59.13652112811791\n",
      "Running iteration : 9\n",
      "Total Distance between coordinates : 36.384489678092635\n",
      "Running iteration : 10\n",
      "Total Distance between coordinates : 37.25796001964593\n",
      "Running iteration : 11\n",
      "Total Distance between coordinates : 45.85115208939414\n",
      "Running iteration : 12\n",
      "Total Distance between coordinates : 39.024103329867614\n",
      "Running iteration : 13\n",
      "Total Distance between coordinates : 40.75491832946285\n",
      "Running iteration : 14\n",
      "Total Distance between coordinates : 23.41385754705081\n",
      "Running iteration : 15\n",
      "Total Distance between coordinates : 23.572981403649287\n",
      "Running iteration : 16\n",
      "Total Distance between coordinates : 23.307268551566274\n",
      "Running iteration : 17\n",
      "Total Distance between coordinates : 8.009549936781534\n",
      "Running iteration : 18\n",
      "Total Distance between coordinates : 0.0\n"
     ]
    }
   ],
   "source": [
    "obj=KMeans(coordinates,no_of_clusters=5,plot=0,max_iter=50)\n",
    "obj.main()"
   ]
  },
  {
   "cell_type": "code",
   "execution_count": null,
   "id": "fe908821",
   "metadata": {},
   "outputs": [],
   "source": []
  }
 ],
 "metadata": {
  "kernelspec": {
   "display_name": "Python 3",
   "language": "python",
   "name": "python3"
  },
  "language_info": {
   "codemirror_mode": {
    "name": "ipython",
    "version": 3
   },
   "file_extension": ".py",
   "mimetype": "text/x-python",
   "name": "python",
   "nbconvert_exporter": "python",
   "pygments_lexer": "ipython3",
   "version": "3.8.8"
  }
 },
 "nbformat": 4,
 "nbformat_minor": 5
}
