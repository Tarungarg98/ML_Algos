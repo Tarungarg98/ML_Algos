{
 "cells": [
  {
   "cell_type": "code",
   "execution_count": 1,
   "id": "27cdc874",
   "metadata": {},
   "outputs": [],
   "source": [
    "#Import Libraries\n",
    "\n",
    "import pandas as pd\n",
    "import numpy as np\n",
    "import random\n",
    "from matplotlib import pyplot as plt"
   ]
  },
  {
   "cell_type": "code",
   "execution_count": 2,
   "id": "eec07389",
   "metadata": {},
   "outputs": [],
   "source": [
    "# Generating a X, Y pair with Y as random deviation from X\n",
    "\n",
    "# Array of 1000 random numbers from the lot of values 10 to 700 with a step of 1\n",
    "X = np.array([random.randrange(10, 700, 1) for i in range(100)])\n",
    "\n",
    "# Calcualting random deviation values\n",
    "dev=[random.randrange(-90,90,10) for i in range(100)]\n",
    "\n",
    "# Y (Actual Values) calculated by subtracting deviation from X\n",
    "Y=[]\n",
    "for i in range(100):\n",
    "    Y.append(X[i]-dev[i])\n",
    "Y=np.array(Y)"
   ]
  },
  {
   "cell_type": "code",
   "execution_count": 3,
   "id": "4bfe086d",
   "metadata": {},
   "outputs": [
    {
     "data": {
      "text/plain": [
       "<matplotlib.collections.PathCollection at 0x21dba7b03d0>"
      ]
     },
     "execution_count": 3,
     "metadata": {},
     "output_type": "execute_result"
    },
    {
     "data": {
      "image/png": "[encoded data removed]",
      "text/plain": [
       "<Figure size 432x288 with 1 Axes>"
      ]
     },
     "metadata": {
      "needs_background": "light"
     },
     "output_type": "display_data"
    }
   ],
   "source": [
    "# Plotting original Data\n",
    "\n",
    "plt.scatter(X,Y)"
   ]
  },
  {
   "cell_type": "code",
   "execution_count": 4,
   "id": "aa2a076a",
   "metadata": {},
   "outputs": [],
   "source": [
    "# Class for Linear Regression\n",
    "\n",
    "class Linear_Regression:\n",
    "    def __init__(self,X,Y):\n",
    "        self.X=np.array(X)\n",
    "        self.Y=np.array(Y)\n",
    "        self.mean_x=self.X.mean()\n",
    "        self.mean_y=self.Y.mean()\n",
    "\n",
    "    def calc_numerator(self):\n",
    "        self.numerator=np.sum((self.X-self.mean_x)*(self.Y-self.mean_y))\n",
    "    def calc_denominator(self):\n",
    "        self.denominator=np.sum((self.X-self.mean_x)**2)\n",
    "    def calc_slope(self):\n",
    "        self.slope= (self.numerator/self.denominator).round(2)\n",
    "    def calc_constant(self):\n",
    "        self.contant=(self.mean_y-self.slope*self.mean_x).round(2)        \n",
    "    def calc_parameters(self):\n",
    "        self.calc_numerator()\n",
    "        self.calc_denominator()\n",
    "        self.calc_slope()\n",
    "        self.calc_constant()\n",
    "        return self.slope,self.contant\n",
    "\n"
   ]
  },
  {
   "cell_type": "code",
   "execution_count": 5,
   "id": "f2e094df",
   "metadata": {},
   "outputs": [
    {
     "name": "stdout",
     "output_type": "stream",
     "text": [
      "Slope of the equation is :  1.01\n",
      "Constant of the equation is :  -0.62\n",
      "Linear Regression equation is : Y= 1.01*X + -0.62\n"
     ]
    }
   ],
   "source": [
    "# Initializing Linear Regression Class\n",
    "lr=Linear_Regression(X,Y)\n",
    "\n",
    "# Finding slope and constant by minimizing mean squared error\n",
    "slope,constant=lr.calc_parameters()\n",
    "\n",
    "print(\"Slope of the equation is : \",slope)\n",
    "print(\"Constant of the equation is : \",constant)\n",
    "\n",
    "# Predicted Y calculates as Y=mX+c\n",
    "Y_hat=slope*X+constant\n",
    "\n",
    "print(\"Linear Regression equation is : Y= {}*X + {}\".format(slope, constant))\n"
   ]
  },
  {
   "cell_type": "code",
   "execution_count": 6,
   "id": "d32e1106",
   "metadata": {},
   "outputs": [
    {
     "data": {
      "text/plain": [
       "<matplotlib.collections.PathCollection at 0x21dba7edfd0>"
      ]
     },
     "execution_count": 6,
     "metadata": {},
     "output_type": "execute_result"
    },
    {
     "data": {
      "image/png": "[encoded data removed]",
      "text/plain": [
       "<Figure size 432x288 with 1 Axes>"
      ]
     },
     "metadata": {
      "needs_background": "light"
     },
     "output_type": "display_data"
    }
   ],
   "source": [
    "# Plotting predicted Line\n",
    "plt.plot(X,Y_hat,color='red')\n",
    "# Plotting Original Data\n",
    "plt.scatter(X,Y)"
   ]
  }
 ],
 "metadata": {
  "kernelspec": {
   "display_name": "Python 3",
   "language": "python",
   "name": "python3"
  },
  "language_info": {
   "codemirror_mode": {
    "name": "ipython",
    "version": 3
   },
   "file_extension": ".py",
   "mimetype": "text/x-python",
   "name": "python",
   "nbconvert_exporter": "python",
   "pygments_lexer": "ipython3",
   "version": "3.8.8"
  }
 },
 "nbformat": 4,
 "nbformat_minor": 5
}
